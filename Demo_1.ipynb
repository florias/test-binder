{
 "cells": [
  {
   "cell_type": "markdown",
   "id": "fc6b2440-3f92-418b-9434-4deb350e7e9f",
   "metadata": {},
   "source": [
    "# Demo 1: Measurements and Likelihoods\n",
    "\n",
    "In Demo 1, we will be focusing on different aspects of the generative model, as well as the first stage of inference (i.e., deriving a likelihood). \n",
    "The demo will be split into 3 parts, which we will explore sequentially throughout the first part of the lecture.\n",
    "Each demo will be accompanied by **guiding questions**, which will help with the learning process as we go.\n",
    "    \n",
    "In **Part A**, we will explore properties of the *Measurement Distribution*.\n",
    "\n",
    "In **Part B**, we will explore the relationship between the *Measurement Distribution* and the *Likelihood Distribution*.\n",
    "\n",
    "Finally, In **Part C**, we will explore how differing patterns of *measurement noise* control the shape of the *Likelihood Distribution*.\n"
   ]
  },
  {
   "cell_type": "code",
   "execution_count": null,
   "id": "87642831-963c-426f-a8a0-962312dae888",
   "metadata": {
    "jupyter": {
     "source_hidden": true
    }
   },
   "outputs": [],
   "source": []
  },
  {
   "cell_type": "markdown",
   "id": "82d8b833-d535-46e4-84fb-6f8364bdaedf",
   "metadata": {},
   "source": [
    "## Demo 1A: The Measurement Distribution\n",
    "\n",
    "In the current demo, we will explore the different properties of the *Measurement Distribution*. \n",
    "The below plot illustrates the measurement distribution in black. \n",
    "Two adjustable settings change the properties of the distribution.\n",
    "\n",
    "1. \"Stimulus\" controls the location of the hand.\n",
    "2. \"Noise σ\" controls the proprioceptive noise.\n",
    "\n",
    "To make a measurement, click the box \"Make Measurement\". \n",
    "Doing so will randomly sample a sensory observation from the measurement distribution, and illustrate the observed value as a red dashed line.\n",
    "\n",
    "    \n",
    "### Guiding Questions\n",
    "1. Keeping all other parameters at their default values, slide the \"Stimulus\" back and forth along the values. \n",
    "What changes about the distibution and what remains constant? \n",
    "What does this imply about the nature of the measuring apparatus (i.e., proprioceptors).\n",
    "\n",
    "2. Now let's change the \"Noise σ\". If you increase or decrease its value, what happens to the Measurement Distribution?\n",
    "What consequence does this have for the range of sensory observations that could be made?\n",
    "                               \n",
    "3. Finally, let's makes some observations with our measuring device. Choose a value for \"Stimulus\" and \"Noise σ\". \n",
    "Press the box \"Make Measurement\" several times to make several measurements. \n",
    "How do these measurements relate to the actual stimulus location? What happens if you increase or decrease \"Noise\"?\n"
   ]
  },
  {
   "cell_type": "code",
   "execution_count": 23,
   "id": "8026e51b-eb1f-4d68-a593-3cc951ba1666",
   "metadata": {
    "jupyter": {
     "source_hidden": true
    }
   },
   "outputs": [
    {
     "data": {
      "application/vnd.jupyter.widget-view+json": {
       "model_id": "e542cd890b58403a83967eab84ffa163",
       "version_major": 2,
       "version_minor": 0
      },
      "text/plain": [
       "HBox(children=(VBox(children=(FloatSlider(value=0.0, description='Stimulus:', max=10.0, min=-10.0, readout_for…"
      ]
     },
     "metadata": {},
     "output_type": "display_data"
    }
   ],
   "source": [
    "\"\"\"\n",
    "DEMO 1: Measurements, Noise, and Likelihoods\n",
    "\n",
    "DEMO 1A: Effects of noise on the likelihood\n",
    "DEMO 1B: Distinguishing measurements and likelihoods: Effects of inhomogenous noise\n",
    "\n",
    "\"\"\"\n",
    "\n",
    "import numpy as np\n",
    "import matplotlib.pyplot as plt\n",
    "from ipywidgets import interactive, FloatSlider, IntSlider, Checkbox, VBox, HBox\n",
    "from IPython.display import display\n",
    "\n",
    "# Make static images sharp inside notebooks\n",
    "%matplotlib inline\n",
    "plt.rcParams[\"figure.dpi\"] = 120\n",
    "\n",
    "# ---------------------------------------------------------------------------\n",
    "# Global axis limits (stay *constant* no matter what the sliders do)\n",
    "S_RANGE = (-10, 10)          # from sliders\n",
    "SIGMA_M_RANGE = (1, 5)    # from sliders\n",
    "\n",
    "XLIM = (-20, 20)   # (-17, 17)\n",
    "YLIM = (-0.002, 0.05)         # room for baseline + PDF peak (0.15)\n",
    "\n",
    "\n",
    "def measurements(s: float = 0.0, \n",
    "                 sigma_m: float = 1.0,\n",
    "                 make_m: bool = True):\n",
    "    \n",
    "\n",
    "    fig, ax = plt.subplots(figsize=(8, 6))\n",
    "\n",
    "\n",
    "    # Line showing the true simulus\n",
    "    ax.axvline(s, color=\"grey\", linestyle=\"--\")\n",
    "\n",
    "    # MEASUREMEMNT DISTRIBUTION\n",
    "    xs = np.linspace(XLIM[0], XLIM[1], 400) # centers of the measurements\n",
    "    var_M = sigma_m**2 # variance of the measurement\n",
    "    s_norm = (1 / (np.sqrt(2 * np.pi) * var_M)) * np.exp(-0.5 * ((xs - 0)** 2 / var_M)).sum() # normalization constant for measurement curve\n",
    "    \n",
    "    # Measurement PDF\n",
    "    m_pdf = (1 / (np.sqrt(2 * np.pi) * var_M)) * np.exp(-0.5 * ((xs - s)** 2 / var_M))\n",
    "    m_pdf_scaled = m_pdf / s_norm # Scaling the pdf for better visual\n",
    "    ax.plot(xs, m_pdf_scaled, color=\"black\", linewidth=2)\n",
    "        \n",
    "\n",
    "    # MAKE MEASUREMENTS AND PERFORM INFERENCES\n",
    "    if make_m:\n",
    "        # Make measurements\n",
    "        rng = np.random.default_rng() # random number generator (for noisy observations)\n",
    "        x_obs = rng.normal(loc=s, scale=sigma_m, size=1) # noisy measurement\n",
    "        ax.axvline(x_obs, color=\"red\", linestyle=\"--\") # show the measurement\n",
    "\n",
    "\n",
    "    # Fixed axes\n",
    "    ax.set_xlim(*XLIM)\n",
    "    ax.set_ylim(*YLIM)\n",
    "\n",
    "    # Aesthetics\n",
    "    ax.grid(True, axis=\"x\", linestyle=\":\", alpha=0.5)\n",
    "    plt.show()\n",
    "\n",
    "\n",
    "# ---------------------------------------------------------------------------\n",
    "# controls\n",
    "controls = {\n",
    "    \"s\": FloatSlider(value=0.0, min=S_RANGE[0], max=S_RANGE[1], step=0.1,\n",
    "                       description=\"Stimulus:\", continuous_update=True,\n",
    "                       readout_format=\".1f\"),\n",
    "    \"sigma_m\": FloatSlider(value=2.0, min=SIGMA_M_RANGE[0], max=SIGMA_M_RANGE[1], step=0.1,\n",
    "                          description=\"Noise σ:\", continuous_update=True),\n",
    "    \"make_m\": Checkbox(value=False, description=\"Make Measurement\"),\n",
    "}\n",
    "\n",
    "interactive_plot = interactive(measurements, **controls)\n",
    "\n",
    "# Two‑column layout: sliders left, plot right\n",
    "ui_left = VBox([controls[\"s\"], controls[\"sigma_m\"], controls[\"make_m\"]])\n",
    "\n",
    "output_area = interactive_plot.children[-1]\n",
    "\n",
    "display(HBox([ui_left, output_area]))\n",
    "interactive_plot.update()\n"
   ]
  },
  {
   "cell_type": "code",
   "execution_count": null,
   "id": "b4febcd7-6a36-439a-ac39-c5752d93891c",
   "metadata": {
    "jupyter": {
     "source_hidden": true
    }
   },
   "outputs": [],
   "source": []
  },
  {
   "cell_type": "markdown",
   "id": "6ab0cce9-0971-4aa8-9b8a-0ebd45687d51",
   "metadata": {},
   "source": [
    "## Demo 1B: Effects of Measurement Noise on the Likelihood Distribution\n",
    "\n",
    "In the current demo, we will explore the effects of measurement noise on the Likelihood Distribution.\n",
    "\n",
    "As in the previous demo, \"Stimulus\" and \"Noise σ\" control the parameters of the Measurement Distribution, illustrated as a black curve.\n",
    "A new measurement can be taken by clicking \"Make Measurement\".\n",
    "\n",
    "There are two additional options in this demo.\n",
    "\n",
    "1. The Meausrement Distribution curve can be toggled on and off with the check box \"Show Measurement curve\".\n",
    "2. The Likelihood Distribution curve (in red) can be toggled on and off with the check box \"Show Likelihood curve\". \n",
    "Note that \"Make Measurement\" must be checked as well in order to see the Likelihood, as the distribution requires a sensory observation.\n",
    "\n",
    "### Guiding Questions\n",
    "1. Keeping all other parameters at their default values, press the box \"Make Measurement\" several times to make several measurements\n",
    "How does the Likelihood Distribution relate to the Measurement Distribution?\n",
    "\n",
    "2. Now let's change the \"Noise\". Unclick the box \"Make Measurement\" and  increase or decrease the noise value. Now click \"Make Measurement\".\n",
    "What happens to the Likelihood Distribution? Take several measurements. What observations do you make about how the likelihood changes\n",
    "from measurement to measurement? \n",
    "                               \n",
    "3. Repeate the steps from question 2 across several different values of stimulus and noise. \n",
    "What consequence does measurement noise have on likelihoods?"
   ]
  },
  {
   "cell_type": "code",
   "execution_count": 24,
   "id": "6c65067c-03a3-4a71-9f72-7f93afd7a1e8",
   "metadata": {
    "jupyter": {
     "source_hidden": true
    }
   },
   "outputs": [
    {
     "data": {
      "application/vnd.jupyter.widget-view+json": {
       "model_id": "122c6bcd2cc2402b8a38b2d7e1fb73a3",
       "version_major": 2,
       "version_minor": 0
      },
      "text/plain": [
       "HBox(children=(VBox(children=(FloatSlider(value=0.0, description='Stimulus:', max=10.0, min=-10.0, readout_for…"
      ]
     },
     "metadata": {},
     "output_type": "display_data"
    }
   ],
   "source": [
    "\"\"\"\n",
    "DEMO 1: Measurements, Noise, and Likelihoods\n",
    "\n",
    "DEMO 1A: Effects of noise on the likelihood\n",
    "DEMO 1B: Distinguishing measurements and likelihoods: Effects of inhomogenous noise\n",
    "\n",
    "\"\"\"\n",
    "\n",
    "import numpy as np\n",
    "import matplotlib.pyplot as plt\n",
    "from ipywidgets import interactive, FloatSlider, IntSlider, Checkbox, VBox, HBox\n",
    "from IPython.display import display\n",
    "\n",
    "# Make static images sharp inside notebooks\n",
    "%matplotlib inline\n",
    "plt.rcParams[\"figure.dpi\"] = 120\n",
    "\n",
    "# ---------------------------------------------------------------------------\n",
    "# Global axis limits (stay *constant* no matter what the sliders do)\n",
    "S_RANGE = (-10, 10)          # from sliders\n",
    "SIGMA_M_RANGE = (1, 5)    # from sliders\n",
    "\n",
    "XLIM = (-20, 20)   # (-17, 17)\n",
    "YLIM = (-0.002, 0.05)         # room for baseline + PDF peak (0.15)\n",
    "\n",
    "\n",
    "def measurements_likelihoods(s: float = 0.0, \n",
    "                             sigma_m: float = 1.0,\n",
    "                             show_m_pdf: bool = True,\n",
    "                             show_L_pdf: bool = True, \n",
    "                             make_m: bool = True):\n",
    "    \n",
    "\n",
    "    fig, ax = plt.subplots(figsize=(8, 6))\n",
    "\n",
    "\n",
    "    # Line showing the true simulus\n",
    "    ax.axvline(s, color=\"grey\", linestyle=\"--\")\n",
    "\n",
    "    # MEASUREMEMNT DISTRIBUTION\n",
    "    xs = np.linspace(XLIM[0], XLIM[1], 400) # centers of the measurements\n",
    "    var_M = sigma_m**2 # variance of the measurement\n",
    "    s_norm = (1 / (np.sqrt(2 * np.pi) * var_M)) * np.exp(-0.5 * ((xs - 0)** 2 / var_M)).sum() # normalization constant for measurement curve\n",
    "    \n",
    "    # Measurement PDF\n",
    "    if show_m_pdf:\n",
    "        m_pdf = (1 / (np.sqrt(2 * np.pi) * var_M)) * np.exp(-0.5 * ((xs - s)** 2 / var_M))\n",
    "        m_pdf_scaled = m_pdf / s_norm # Scaling the pdf for better visual\n",
    "        ax.plot(xs, m_pdf_scaled, color=\"black\", linewidth=2)\n",
    "        \n",
    "\n",
    "    # MAKE MEASUREMENTS AND PERFORM INFERENCES\n",
    "    if make_m:\n",
    "\n",
    "        # Make measurements\n",
    "        rng = np.random.default_rng() # random number generator (for noisy observations)\n",
    "        x_obs = rng.normal(loc=s, scale=sigma_m, size=1) # noisy measurement\n",
    "        ax.axvline(x_obs, color=\"red\", linestyle=\"--\") # show the measurement\n",
    "\n",
    "        # Show the inference (likelihood)\n",
    "        if show_L_pdf:\n",
    "            var_L = sigma_m**2\n",
    "            norm_l = (1 / (np.sqrt(2 * np.pi) * var_L)) * np.exp(-0.5 * ((0-xs)** 2 / var_L)).sum() # Normalization for likelihood\n",
    "            pdf_L = (1 / (np.sqrt(2 * np.pi) * var_L)) * np.exp(-0.5 * ((x_obs-xs)** 2 / var_L)) # unnormalized likelihood\n",
    "            pdf_L_norm = pdf_L / norm_l # Normalize the pdf\n",
    "            ax.plot(xs, pdf_L_norm, color=\"red\", linewidth=2)\n",
    "\n",
    "\n",
    "    # Fixed axes\n",
    "    ax.set_xlim(*XLIM)\n",
    "    ax.set_ylim(*YLIM)\n",
    "\n",
    "    # Aesthetics\n",
    "    ax.grid(True, axis=\"x\", linestyle=\":\", alpha=0.5)\n",
    "    plt.show()\n",
    "\n",
    "\n",
    "# ---------------------------------------------------------------------------\n",
    "# controls\n",
    "controls = {\n",
    "    \"s\": FloatSlider(value=0.0, min=S_RANGE[0], max=S_RANGE[1], step=0.1,\n",
    "                       description=\"Stimulus:\", continuous_update=True,\n",
    "                       readout_format=\".1f\"),\n",
    "    \"sigma_m\": FloatSlider(value=2.0, min=SIGMA_M_RANGE[0], max=SIGMA_M_RANGE[1], step=0.1,\n",
    "                          description=\"Noise σ:\", continuous_update=True),\n",
    "    \"show_m_pdf\": Checkbox(value=True, description=\"Show Measurement curve\"),\n",
    "    \"show_L_pdf\": Checkbox(value=True, description=\"Show Likelihood curve\"),\n",
    "    \"make_m\": Checkbox(value=False, description=\"Make Measurement\"),\n",
    "\n",
    "}\n",
    "\n",
    "interactive_plot = interactive(measurements_likelihoods, **controls)\n",
    "\n",
    "# Two‑column layout: sliders left, plot right\n",
    "ui_left = VBox([controls[\"s\"], controls[\"sigma_m\"], \n",
    "                controls[\"show_m_pdf\"],controls[\"show_L_pdf\"],controls[\"make_m\"]])\n",
    "\n",
    "output_area = interactive_plot.children[-1]\n",
    "\n",
    "display(HBox([ui_left, output_area]))\n",
    "interactive_plot.update()\n"
   ]
  },
  {
   "cell_type": "code",
   "execution_count": null,
   "id": "0e631d3e-7c21-4da3-b62f-3014bc5fe22b",
   "metadata": {
    "jupyter": {
     "source_hidden": true
    }
   },
   "outputs": [],
   "source": []
  },
  {
   "cell_type": "markdown",
   "id": "91811f00-8dda-4a78-b32a-a4b1202a8667",
   "metadata": {},
   "source": [
    "## Demo 1C: Illustrating a major distinction between Measurement and Likelihood Distributions\n",
    "\n",
    "In the current demo, we will highlight the difference between measurement and likelihood, which is often hard to grasp at first.\n",
    "In our opinion, this is best done by showing the effects of non-homegenous measurement noise on the shape of the likelihood.\n",
    "\n",
    "We have added a new checkbox to this demo called \"Gradient\", which adds distance-dependent noise to the Measurement Distributions.\n",
    "That is, the further from hand location at zero, the noisier the measurements are. The set value of \"Gradient\" determines the level of noiseiness.\n",
    "\n",
    "### Guiding Questions\n",
    "1. Keeping all other parameters at their default values, slide the \"Stimulus\" back and forth along the values. \n",
    "How does this relate to Demo 1A?\n",
    "\n",
    "2. Let's add a \"gradient\" to the measurement noise. Change the value of \"Gradient\" to a moderate level (between 0.1 to 0.2).\n",
    "Repeat the process from Question 1. How do the stimulus value and measurement noise relate?\n",
    "What does this imply about the nature of the measuring apparatus (i.e., proprioceptors).\n",
    "\n",
    "3. Now let's observe the likelihood curve. Click \"Show likelihood curve\". \n",
    "How does its shape change as you slide the \"Stimulus\" back and forth along the values?\n",
    "Why does it take on this shape (hint: think about how the likelihood at value s_hyp relates to the measurement noise). \n",
    "                               \n",
    "4. Repeate the above steps with different values for \"Gradient\". How does the shape of the Likelihood change? "
   ]
  },
  {
   "cell_type": "code",
   "execution_count": 25,
   "id": "6afd3b1d-36b1-47d2-8a9d-68bfff85090d",
   "metadata": {
    "jupyter": {
     "source_hidden": true
    }
   },
   "outputs": [
    {
     "data": {
      "application/vnd.jupyter.widget-view+json": {
       "model_id": "c475b3a08abd493d897259079ca097b0",
       "version_major": 2,
       "version_minor": 0
      },
      "text/plain": [
       "HBox(children=(VBox(children=(FloatSlider(value=0.0, description='Stimulus:', max=10.0, min=-10.0, readout_for…"
      ]
     },
     "metadata": {},
     "output_type": "display_data"
    }
   ],
   "source": [
    "\n",
    "# ---------------------------------------------------------------------------\n",
    "# Global axis limits (stay *constant* no matter what the sliders do)\n",
    "\n",
    "GRAD_RANGE = (0, 0.5)\n",
    "\n",
    "def m_l_inhomogeneous(s: float = 0.0, \n",
    "                     sigma_m: float = 1.0,\n",
    "                     grad: float = 1.0,\n",
    "                     show_m_pdf: bool = True,\n",
    "                     show_L_pdf: bool = True):\n",
    "    \n",
    "\n",
    "    fig, ax = plt.subplots(figsize=(8, 6))\n",
    "\n",
    "\n",
    "    # Line showing the true simulus\n",
    "    ax.axvline(s, color=\"black\", linestyle=\"--\")\n",
    "\n",
    "\n",
    "    # MEASUREMEMNT DISTRIBUTION\n",
    "    xs = np.linspace(XLIM[0], XLIM[1], 400) # centers of the measurements\n",
    "\n",
    "    sigma_grad = sigma_m + abs(s)*grad\n",
    "    var_M = sigma_grad**2 # variance of the measurement\n",
    "    s_norm = (1 / (np.sqrt(2 * np.pi) * var_M)) * np.exp(-0.5 * ((xs - 0)** 2 / var_M)).sum() # normalization constant for measurement curve\n",
    "    \n",
    "    # Measurement PDF\n",
    "    if show_m_pdf:\n",
    "        m_pdf = (1 / (np.sqrt(2 * np.pi) * var_M)) * np.exp(-0.5 * ((xs - s)** 2 / var_M))\n",
    "        m_pdf_norm = m_pdf / s_norm # Scaling the pdf for better visual\n",
    "        ax.plot(xs, m_pdf_norm, color=\"black\", linewidth=2)\n",
    "        \n",
    "\n",
    "    # Show the inference (likelihood)\n",
    "    if show_L_pdf:\n",
    "\n",
    "        norm_l = []\n",
    "        pdf_L = []\n",
    "        for i in range(len(xs)):\n",
    "            curr_x = xs[i]\n",
    "\n",
    "            sigma_l_grad = sigma_m + abs(xs[i])*grad\n",
    "            \n",
    "            var_L = sigma_l_grad**2\n",
    "            norm_l_temp = (1 / (np.sqrt(2 * np.pi) * var_L)) * np.exp(-0.5 * ((0-xs[i])** 2 / var_L)) # Normalization for likelihood\n",
    "            pdf_L_temp = (1 / (np.sqrt(2 * np.pi) * var_L)) * np.exp(-0.5 * ((s-xs[i])** 2 / var_L)) # unnormalized likelihood\n",
    "            norm_l.append(norm_l_temp)\n",
    "            pdf_L.append(pdf_L_temp)\n",
    "            \n",
    "        pdf_L_norm = pdf_L / np.array(norm_l).sum() # Normalize the pdf\n",
    "        ax.plot(xs, pdf_L_norm, color=\"red\", linewidth=2)\n",
    "\n",
    "\n",
    "\n",
    "    # Fixed axes\n",
    "    ax.set_xlim(*XLIM)\n",
    "    ax.set_ylim(*YLIM)\n",
    "\n",
    "    # Aesthetics\n",
    "    ax.grid(True, axis=\"x\", linestyle=\":\", alpha=0.5)\n",
    "    plt.show()\n",
    "\n",
    "\n",
    "# ---------------------------------------------------------------------------\n",
    "# controls\n",
    "controls = {\n",
    "    \"s\": FloatSlider(value=0.0, min=S_RANGE[0], max=S_RANGE[1], step=0.1,\n",
    "                       description=\"Stimulus:\", continuous_update=True,\n",
    "                       readout_format=\".1f\"),\n",
    "    \"sigma_m\": FloatSlider(value=2.0, min=SIGMA_M_RANGE[0], max=SIGMA_M_RANGE[1], step=0.1,\n",
    "                          description=\"Noise σ:\", continuous_update=True),\n",
    "    \"grad\": FloatSlider(value=0, min=GRAD_RANGE[0], max=GRAD_RANGE[1], step=0.05,\n",
    "                          description=\"Gradient:\", continuous_update=True),\n",
    "    \"show_m_pdf\": Checkbox(value=True, description=\"Show Measurement curve\"),\n",
    "    \"show_L_pdf\": Checkbox(value=False, description=\"Show Likelihood curve\"),\n",
    "\n",
    "}\n",
    "\n",
    "interactive_plot = interactive(m_l_inhomogeneous, **controls)\n",
    "\n",
    "# Two‑column layout: sliders left, plot right\n",
    "ui_left = VBox([controls[\"s\"], controls[\"sigma_m\"],controls[\"grad\"],controls[\"show_m_pdf\"],controls[\"show_L_pdf\"]])\n",
    "\n",
    "output_area = interactive_plot.children[-1]\n",
    "\n",
    "display(HBox([ui_left, output_area]))\n",
    "interactive_plot.update()\n"
   ]
  },
  {
   "cell_type": "code",
   "execution_count": null,
   "id": "5bf35899-3942-443a-9b12-ddb0bdd3feb4",
   "metadata": {
    "jupyter": {
     "source_hidden": true
    }
   },
   "outputs": [],
   "source": [
    "\n",
    "\n",
    "\n",
    "\n"
   ]
  }
 ],
 "metadata": {
  "kernelspec": {
   "display_name": "Python [conda env:base] *",
   "language": "python",
   "name": "conda-base-py"
  },
  "language_info": {
   "codemirror_mode": {
    "name": "ipython",
    "version": 3
   },
   "file_extension": ".py",
   "mimetype": "text/x-python",
   "name": "python",
   "nbconvert_exporter": "python",
   "pygments_lexer": "ipython3",
   "version": "3.11.7"
  }
 },
 "nbformat": 4,
 "nbformat_minor": 5
}
